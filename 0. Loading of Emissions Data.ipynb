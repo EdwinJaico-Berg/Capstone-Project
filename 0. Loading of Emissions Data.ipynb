{
 "cells": [
  {
   "cell_type": "markdown",
   "id": "006c252d",
   "metadata": {},
   "source": [
    "# Loading Emissions Data"
   ]
  },
  {
   "cell_type": "markdown",
   "id": "71307c0d",
   "metadata": {},
   "source": [
    "## Introduction\n",
    "\n",
    "The purpose of this notebook is to show the loading process that was involved in creating the datasets that would be used for the principal exploratory data analysis for the project. This is by no means an exhaustive cleaning process, rather a way of condensing files into single files which can be accessed by others. The 'cleaning' process, if we can call it that, will therefore involve removing the data that is not relevant; this means data that describes areas outside of the United States."
   ]
  },
  {
   "cell_type": "code",
   "execution_count": 3,
   "id": "f15c7923",
   "metadata": {},
   "outputs": [],
   "source": [
    "import pandas as pd\n",
    "import xarray as xr\n",
    "import os"
   ]
  },
  {
   "cell_type": "markdown",
   "id": "ec8c81de",
   "metadata": {},
   "source": [
    "## CH$_4$ Data\n",
    "\n",
    "The following dataset, as well as all subsequent datasets pertaining to atmospheric greenhouse gas emissions is collected by the Emissions Database for Global Atmospheric Research (EDGAR), spearheaded by the European Commission. The data in all instances is clearly laid out. I will describe the basic layout within this section, but this will also apply to the other instances (CO$_2$ and N$_2$O). The data is gridded and provided in a .nc file. The grid is measured by $0.1^\\circ × 0.1^\\circ$ change in longitude and latitude. The data is split into separate .nc files for individual years, meaning that for each .nc file, the following information is shown:\n",
    "\n",
    "|Column|Description|\n",
    "|:--|:--|\n",
    "|lat|Latitude|\n",
    "|lon|Longitude|\n",
    "|emi_*substance*|The amount of the respective substance released. Measured in kg substance/m$^2$|\n",
    "\n",
    "We will read the files for the individual years, from which we will create a DataFrame, which will finally be concatenated to an overarching DataFrame. For each of the individual DataFrames created we will also add a `year` column so that we have this information readily available in the final DataFrame."
   ]
  },
  {
   "cell_type": "code",
   "execution_count": 25,
   "id": "8029445a",
   "metadata": {},
   "outputs": [],
   "source": [
    "ch4_df = pd.DataFrame()\n",
    "\n",
    "for file in os.listdir('EDGAR Emissions/CH4_TOTALS_nc'):\n",
    "    if file[-2:] == 'nc':\n",
    "        year = file[9:13]\n",
    "        path = f'EDGAR Emissions/CH4_TOTALS_nc/{file}'\n",
    "        ds = xr.open_dataset(path)\n",
    "        tmp_df = ds.to_dataframe()\n",
    "        tmp_df.unstack()\n",
    "        tmp_df['year'] = int(year)\n",
    "        ch4_df = pd.concat([ch4_df, tmp_df])"
   ]
  },
  {
   "cell_type": "markdown",
   "id": "c6d42adf",
   "metadata": {},
   "source": [
    "Ultimately, we have created a DataFrame, that has a multiindex. Even after unstacking, the `lat` and `lon` index columns are not accessible. Consequently, I saved the DataFrame to a .csv file that we will be able to read from later on. "
   ]
  },
  {
   "cell_type": "code",
   "execution_count": 1,
   "id": "eb59d4ee",
   "metadata": {},
   "outputs": [],
   "source": [
    "ch4_df.to_csv('data/EDGAR Emissions/ch4.csv')"
   ]
  },
  {
   "cell_type": "code",
   "execution_count": 34,
   "id": "2b83b032",
   "metadata": {},
   "outputs": [
    {
     "data": {
      "text/html": [
       "<div>\n",
       "<style scoped>\n",
       "    .dataframe tbody tr th:only-of-type {\n",
       "        vertical-align: middle;\n",
       "    }\n",
       "\n",
       "    .dataframe tbody tr th {\n",
       "        vertical-align: top;\n",
       "    }\n",
       "\n",
       "    .dataframe thead th {\n",
       "        text-align: right;\n",
       "    }\n",
       "</style>\n",
       "<table border=\"1\" class=\"dataframe\">\n",
       "  <thead>\n",
       "    <tr style=\"text-align: right;\">\n",
       "      <th></th>\n",
       "      <th></th>\n",
       "      <th>emi_ch4</th>\n",
       "      <th>year</th>\n",
       "    </tr>\n",
       "    <tr>\n",
       "      <th>lat</th>\n",
       "      <th>lon</th>\n",
       "      <th></th>\n",
       "      <th></th>\n",
       "    </tr>\n",
       "  </thead>\n",
       "  <tbody>\n",
       "    <tr>\n",
       "      <th rowspan=\"5\" valign=\"top\">-89.949997</th>\n",
       "      <th>0.05</th>\n",
       "      <td>0.0</td>\n",
       "      <td>2002</td>\n",
       "    </tr>\n",
       "    <tr>\n",
       "      <th>0.15</th>\n",
       "      <td>0.0</td>\n",
       "      <td>2002</td>\n",
       "    </tr>\n",
       "    <tr>\n",
       "      <th>0.25</th>\n",
       "      <td>0.0</td>\n",
       "      <td>2002</td>\n",
       "    </tr>\n",
       "    <tr>\n",
       "      <th>0.35</th>\n",
       "      <td>0.0</td>\n",
       "      <td>2002</td>\n",
       "    </tr>\n",
       "    <tr>\n",
       "      <th>0.45</th>\n",
       "      <td>0.0</td>\n",
       "      <td>2002</td>\n",
       "    </tr>\n",
       "  </tbody>\n",
       "</table>\n",
       "</div>"
      ],
      "text/plain": [
       "                 emi_ch4  year\n",
       "lat        lon                \n",
       "-89.949997 0.05      0.0  2002\n",
       "           0.15      0.0  2002\n",
       "           0.25      0.0  2002\n",
       "           0.35      0.0  2002\n",
       "           0.45      0.0  2002"
      ]
     },
     "execution_count": 34,
     "metadata": {},
     "output_type": "execute_result"
    }
   ],
   "source": [
    "ch4_df.head()"
   ]
  },
  {
   "cell_type": "markdown",
   "id": "452d07ea",
   "metadata": {},
   "source": [
    "If we read the csv into a DataFrame, we will see how the data is laid out."
   ]
  },
  {
   "cell_type": "code",
   "execution_count": 5,
   "id": "8a2224e3",
   "metadata": {},
   "outputs": [],
   "source": [
    "ch4_df = pd.read_csv('EDGAR Emissions/ch4.csv')"
   ]
  },
  {
   "cell_type": "code",
   "execution_count": 5,
   "id": "b4df9ef3",
   "metadata": {},
   "outputs": [
    {
     "data": {
      "text/html": [
       "<div>\n",
       "<style scoped>\n",
       "    .dataframe tbody tr th:only-of-type {\n",
       "        vertical-align: middle;\n",
       "    }\n",
       "\n",
       "    .dataframe tbody tr th {\n",
       "        vertical-align: top;\n",
       "    }\n",
       "\n",
       "    .dataframe thead th {\n",
       "        text-align: right;\n",
       "    }\n",
       "</style>\n",
       "<table border=\"1\" class=\"dataframe\">\n",
       "  <thead>\n",
       "    <tr style=\"text-align: right;\">\n",
       "      <th></th>\n",
       "      <th>lat</th>\n",
       "      <th>lon</th>\n",
       "      <th>emi_ch4</th>\n",
       "      <th>year</th>\n",
       "    </tr>\n",
       "  </thead>\n",
       "  <tbody>\n",
       "    <tr>\n",
       "      <th>0</th>\n",
       "      <td>-89.949997</td>\n",
       "      <td>0.05</td>\n",
       "      <td>0.0</td>\n",
       "      <td>2002</td>\n",
       "    </tr>\n",
       "    <tr>\n",
       "      <th>1</th>\n",
       "      <td>-89.949997</td>\n",
       "      <td>0.15</td>\n",
       "      <td>0.0</td>\n",
       "      <td>2002</td>\n",
       "    </tr>\n",
       "    <tr>\n",
       "      <th>2</th>\n",
       "      <td>-89.949997</td>\n",
       "      <td>0.25</td>\n",
       "      <td>0.0</td>\n",
       "      <td>2002</td>\n",
       "    </tr>\n",
       "    <tr>\n",
       "      <th>3</th>\n",
       "      <td>-89.949997</td>\n",
       "      <td>0.35</td>\n",
       "      <td>0.0</td>\n",
       "      <td>2002</td>\n",
       "    </tr>\n",
       "    <tr>\n",
       "      <th>4</th>\n",
       "      <td>-89.949997</td>\n",
       "      <td>0.45</td>\n",
       "      <td>0.0</td>\n",
       "      <td>2002</td>\n",
       "    </tr>\n",
       "  </tbody>\n",
       "</table>\n",
       "</div>"
      ],
      "text/plain": [
       "         lat   lon  emi_ch4  year\n",
       "0 -89.949997  0.05      0.0  2002\n",
       "1 -89.949997  0.15      0.0  2002\n",
       "2 -89.949997  0.25      0.0  2002\n",
       "3 -89.949997  0.35      0.0  2002\n",
       "4 -89.949997  0.45      0.0  2002"
      ]
     },
     "execution_count": 5,
     "metadata": {},
     "output_type": "execute_result"
    }
   ],
   "source": [
    "ch4_df.head()"
   ]
  },
  {
   "cell_type": "markdown",
   "id": "42b88ddf",
   "metadata": {},
   "source": [
    "In order to use this data productively, we need to ensure that the `lat` and `lon` values are written in a way that is consistent with our wildfire data."
   ]
  },
  {
   "cell_type": "code",
   "execution_count": 12,
   "id": "475617cf",
   "metadata": {},
   "outputs": [
    {
     "name": "stdout",
     "output_type": "stream",
     "text": [
      "The longitude values range from:\n",
      "0.050000000745058 359.95001220703125\n",
      "The latitude values range from:\n",
      "-89.94999694824219 89.94999694824219\n"
     ]
    }
   ],
   "source": [
    "print('The longitude values range from:')\n",
    "print(ch4_df['lon'].min(), ch4_df['lon'].max())\n",
    "\n",
    "print('The latitude values range from:')\n",
    "print(ch4_df['lat'].min(), ch4_df['lat'].max())"
   ]
  },
  {
   "cell_type": "markdown",
   "id": "634d81c2",
   "metadata": {},
   "source": [
    "This means that the longitude values are all positive, while the latitude values range from -90$^{\\circ}$ to 90$^{\\circ}$. The longitude values that we have defined for the area of North America are defined in a range from -180$^{\\circ}$ to 180$^{\\circ}$. We need to convert these values so that they are in accordance with the DataFrame.\n",
    "\n",
    "|Westernmost Longitude| Easternmost Longitude|Northenmost Latitude|Southernmost Latitude|\n",
    "|:--|:--|:--|:--|\n",
    "|-178.1333 /  181.8667|-53.0567 / 306.9433|82.9143|14.0749|\n",
    "\n",
    "From these values we can filter out the values that don't fall within these geographical boundaries."
   ]
  },
  {
   "cell_type": "code",
   "execution_count": 18,
   "id": "42a8ba8b",
   "metadata": {},
   "outputs": [],
   "source": [
    "latitudes = (ch4_df['lat'] >= 14.0749) & (ch4_df['lat'] <= 82.9143)\n",
    "longitudes = (ch4_df['lon'] >= 181.8667) & (ch4_df['lon'] <= 306.9433)\n",
    "ch4_df = ch4_df[latitudes & longitudes]"
   ]
  },
  {
   "cell_type": "markdown",
   "id": "bb8daf80",
   "metadata": {},
   "source": [
    "Now that we have filtered out the values that we want we have a DataFrame with relevant latitudes and longitudes for the years 1992-2015."
   ]
  },
  {
   "cell_type": "code",
   "execution_count": 20,
   "id": "168add45",
   "metadata": {},
   "outputs": [
    {
     "data": {
      "text/html": [
       "<div>\n",
       "<style scoped>\n",
       "    .dataframe tbody tr th:only-of-type {\n",
       "        vertical-align: middle;\n",
       "    }\n",
       "\n",
       "    .dataframe tbody tr th {\n",
       "        vertical-align: top;\n",
       "    }\n",
       "\n",
       "    .dataframe thead th {\n",
       "        text-align: right;\n",
       "    }\n",
       "</style>\n",
       "<table border=\"1\" class=\"dataframe\">\n",
       "  <thead>\n",
       "    <tr style=\"text-align: right;\">\n",
       "      <th></th>\n",
       "      <th>lat</th>\n",
       "      <th>lon</th>\n",
       "      <th>emi_ch4</th>\n",
       "      <th>year</th>\n",
       "    </tr>\n",
       "  </thead>\n",
       "  <tbody>\n",
       "    <tr>\n",
       "      <th>3749419</th>\n",
       "      <td>14.15</td>\n",
       "      <td>181.949997</td>\n",
       "      <td>2.025535e-16</td>\n",
       "      <td>2002</td>\n",
       "    </tr>\n",
       "    <tr>\n",
       "      <th>3749420</th>\n",
       "      <td>14.15</td>\n",
       "      <td>182.050003</td>\n",
       "      <td>8.164502e-16</td>\n",
       "      <td>2002</td>\n",
       "    </tr>\n",
       "    <tr>\n",
       "      <th>3749421</th>\n",
       "      <td>14.15</td>\n",
       "      <td>182.149994</td>\n",
       "      <td>2.210639e-15</td>\n",
       "      <td>2002</td>\n",
       "    </tr>\n",
       "    <tr>\n",
       "      <th>3749422</th>\n",
       "      <td>14.15</td>\n",
       "      <td>182.250000</td>\n",
       "      <td>2.048980e-15</td>\n",
       "      <td>2002</td>\n",
       "    </tr>\n",
       "    <tr>\n",
       "      <th>3749423</th>\n",
       "      <td>14.15</td>\n",
       "      <td>182.350006</td>\n",
       "      <td>1.972801e-15</td>\n",
       "      <td>2002</td>\n",
       "    </tr>\n",
       "  </tbody>\n",
       "</table>\n",
       "</div>"
      ],
      "text/plain": [
       "           lat         lon       emi_ch4  year\n",
       "3749419  14.15  181.949997  2.025535e-16  2002\n",
       "3749420  14.15  182.050003  8.164502e-16  2002\n",
       "3749421  14.15  182.149994  2.210639e-15  2002\n",
       "3749422  14.15  182.250000  2.048980e-15  2002\n",
       "3749423  14.15  182.350006  1.972801e-15  2002"
      ]
     },
     "execution_count": 20,
     "metadata": {},
     "output_type": "execute_result"
    }
   ],
   "source": [
    "ch4_df.head()"
   ]
  },
  {
   "cell_type": "markdown",
   "id": "2603d810",
   "metadata": {},
   "source": [
    "We notice however that the DataFrame is not sorted. Perhaps it would be best if we sort this by year for easier reading."
   ]
  },
  {
   "cell_type": "code",
   "execution_count": 22,
   "id": "37cbf0f6",
   "metadata": {},
   "outputs": [
    {
     "data": {
      "text/html": [
       "<div>\n",
       "<style scoped>\n",
       "    .dataframe tbody tr th:only-of-type {\n",
       "        vertical-align: middle;\n",
       "    }\n",
       "\n",
       "    .dataframe tbody tr th {\n",
       "        vertical-align: top;\n",
       "    }\n",
       "\n",
       "    .dataframe thead th {\n",
       "        text-align: right;\n",
       "    }\n",
       "</style>\n",
       "<table border=\"1\" class=\"dataframe\">\n",
       "  <thead>\n",
       "    <tr style=\"text-align: right;\">\n",
       "      <th></th>\n",
       "      <th>lat</th>\n",
       "      <th>lon</th>\n",
       "      <th>emi_ch4</th>\n",
       "      <th>year</th>\n",
       "    </tr>\n",
       "  </thead>\n",
       "  <tbody>\n",
       "    <tr>\n",
       "      <th>12703868</th>\n",
       "      <td>82.849998</td>\n",
       "      <td>306.850006</td>\n",
       "      <td>0.000000e+00</td>\n",
       "      <td>1992</td>\n",
       "    </tr>\n",
       "    <tr>\n",
       "      <th>11054241</th>\n",
       "      <td>37.049999</td>\n",
       "      <td>224.149994</td>\n",
       "      <td>1.641249e-14</td>\n",
       "      <td>1992</td>\n",
       "    </tr>\n",
       "    <tr>\n",
       "      <th>11054240</th>\n",
       "      <td>37.049999</td>\n",
       "      <td>224.050003</td>\n",
       "      <td>1.154963e-14</td>\n",
       "      <td>1992</td>\n",
       "    </tr>\n",
       "    <tr>\n",
       "      <th>11054239</th>\n",
       "      <td>37.049999</td>\n",
       "      <td>223.949997</td>\n",
       "      <td>1.350558e-14</td>\n",
       "      <td>1992</td>\n",
       "    </tr>\n",
       "    <tr>\n",
       "      <th>11054238</th>\n",
       "      <td>37.049999</td>\n",
       "      <td>223.850006</td>\n",
       "      <td>1.253440e-14</td>\n",
       "      <td>1992</td>\n",
       "    </tr>\n",
       "  </tbody>\n",
       "</table>\n",
       "</div>"
      ],
      "text/plain": [
       "                lat         lon       emi_ch4  year\n",
       "12703868  82.849998  306.850006  0.000000e+00  1992\n",
       "11054241  37.049999  224.149994  1.641249e-14  1992\n",
       "11054240  37.049999  224.050003  1.154963e-14  1992\n",
       "11054239  37.049999  223.949997  1.350558e-14  1992\n",
       "11054238  37.049999  223.850006  1.253440e-14  1992"
      ]
     },
     "execution_count": 22,
     "metadata": {},
     "output_type": "execute_result"
    }
   ],
   "source": [
    "ch4_sorted = ch4_df.sort_values(by='year')\n",
    "ch4_sorted.head()"
   ]
  },
  {
   "cell_type": "code",
   "execution_count": 23,
   "id": "f250c6e1",
   "metadata": {},
   "outputs": [],
   "source": [
    "ch4_sorted.to_csv('EDGAR Emissions/ch4.csv')"
   ]
  },
  {
   "cell_type": "markdown",
   "id": "eddba1d8",
   "metadata": {},
   "source": [
    "## $CO_2$ Data\n",
    "\n",
    "Considering the similarity between this dataset and the previous, we will follow the same process to create our final .csv file."
   ]
  },
  {
   "cell_type": "code",
   "execution_count": 28,
   "id": "92d65473",
   "metadata": {},
   "outputs": [
    {
     "data": {
      "text/html": [
       "<div>\n",
       "<style scoped>\n",
       "    .dataframe tbody tr th:only-of-type {\n",
       "        vertical-align: middle;\n",
       "    }\n",
       "\n",
       "    .dataframe tbody tr th {\n",
       "        vertical-align: top;\n",
       "    }\n",
       "\n",
       "    .dataframe thead th {\n",
       "        text-align: right;\n",
       "    }\n",
       "</style>\n",
       "<table border=\"1\" class=\"dataframe\">\n",
       "  <thead>\n",
       "    <tr style=\"text-align: right;\">\n",
       "      <th></th>\n",
       "      <th></th>\n",
       "      <th>emi_co2</th>\n",
       "      <th>year</th>\n",
       "    </tr>\n",
       "    <tr>\n",
       "      <th>lat</th>\n",
       "      <th>lon</th>\n",
       "      <th></th>\n",
       "      <th></th>\n",
       "    </tr>\n",
       "  </thead>\n",
       "  <tbody>\n",
       "    <tr>\n",
       "      <th rowspan=\"5\" valign=\"top\">-89.949997</th>\n",
       "      <th>0.05</th>\n",
       "      <td>0.0</td>\n",
       "      <td>2015</td>\n",
       "    </tr>\n",
       "    <tr>\n",
       "      <th>0.15</th>\n",
       "      <td>0.0</td>\n",
       "      <td>2015</td>\n",
       "    </tr>\n",
       "    <tr>\n",
       "      <th>0.25</th>\n",
       "      <td>0.0</td>\n",
       "      <td>2015</td>\n",
       "    </tr>\n",
       "    <tr>\n",
       "      <th>0.35</th>\n",
       "      <td>0.0</td>\n",
       "      <td>2015</td>\n",
       "    </tr>\n",
       "    <tr>\n",
       "      <th>0.45</th>\n",
       "      <td>0.0</td>\n",
       "      <td>2015</td>\n",
       "    </tr>\n",
       "  </tbody>\n",
       "</table>\n",
       "</div>"
      ],
      "text/plain": [
       "                 emi_co2  year\n",
       "lat        lon                \n",
       "-89.949997 0.05      0.0  2015\n",
       "           0.15      0.0  2015\n",
       "           0.25      0.0  2015\n",
       "           0.35      0.0  2015\n",
       "           0.45      0.0  2015"
      ]
     },
     "execution_count": 28,
     "metadata": {},
     "output_type": "execute_result"
    }
   ],
   "source": [
    "co2_df = pd.DataFrame()\n",
    "\n",
    "for file in os.listdir('EDGAR Emissions/CO2_excl_short-cycle_TOTALS_nc'):\n",
    "    if file[-2:] == 'nc':\n",
    "        year = file[-22:-18]\n",
    "        path = f'EDGAR Emissions/CO2_excl_short-cycle_TOTALS_nc/{file}'\n",
    "        ds = xr.open_dataset(path)\n",
    "        tmp_df = ds.to_dataframe()\n",
    "        tmp_df.unstack()\n",
    "        tmp_df['year'] = int(year)\n",
    "        co2_df = pd.concat([co2_df, tmp_df])\n",
    "    \n",
    "co2_df.head()"
   ]
  },
  {
   "cell_type": "code",
   "execution_count": 30,
   "id": "30aefb3e",
   "metadata": {},
   "outputs": [],
   "source": [
    "co2_df.to_csv('EDGAR Emissions/co2.csv')"
   ]
  },
  {
   "cell_type": "code",
   "execution_count": 31,
   "id": "c785ee30",
   "metadata": {},
   "outputs": [],
   "source": [
    "co2_df = pd.read_csv('EDGAR Emissions/co2.csv')"
   ]
  },
  {
   "cell_type": "code",
   "execution_count": 32,
   "id": "5f16a4b5",
   "metadata": {},
   "outputs": [
    {
     "data": {
      "text/html": [
       "<div>\n",
       "<style scoped>\n",
       "    .dataframe tbody tr th:only-of-type {\n",
       "        vertical-align: middle;\n",
       "    }\n",
       "\n",
       "    .dataframe tbody tr th {\n",
       "        vertical-align: top;\n",
       "    }\n",
       "\n",
       "    .dataframe thead th {\n",
       "        text-align: right;\n",
       "    }\n",
       "</style>\n",
       "<table border=\"1\" class=\"dataframe\">\n",
       "  <thead>\n",
       "    <tr style=\"text-align: right;\">\n",
       "      <th></th>\n",
       "      <th>lat</th>\n",
       "      <th>lon</th>\n",
       "      <th>emi_co2</th>\n",
       "      <th>year</th>\n",
       "    </tr>\n",
       "  </thead>\n",
       "  <tbody>\n",
       "    <tr>\n",
       "      <th>0</th>\n",
       "      <td>-89.949997</td>\n",
       "      <td>0.05</td>\n",
       "      <td>0.0</td>\n",
       "      <td>2015</td>\n",
       "    </tr>\n",
       "    <tr>\n",
       "      <th>1</th>\n",
       "      <td>-89.949997</td>\n",
       "      <td>0.15</td>\n",
       "      <td>0.0</td>\n",
       "      <td>2015</td>\n",
       "    </tr>\n",
       "    <tr>\n",
       "      <th>2</th>\n",
       "      <td>-89.949997</td>\n",
       "      <td>0.25</td>\n",
       "      <td>0.0</td>\n",
       "      <td>2015</td>\n",
       "    </tr>\n",
       "    <tr>\n",
       "      <th>3</th>\n",
       "      <td>-89.949997</td>\n",
       "      <td>0.35</td>\n",
       "      <td>0.0</td>\n",
       "      <td>2015</td>\n",
       "    </tr>\n",
       "    <tr>\n",
       "      <th>4</th>\n",
       "      <td>-89.949997</td>\n",
       "      <td>0.45</td>\n",
       "      <td>0.0</td>\n",
       "      <td>2015</td>\n",
       "    </tr>\n",
       "  </tbody>\n",
       "</table>\n",
       "</div>"
      ],
      "text/plain": [
       "         lat   lon  emi_co2  year\n",
       "0 -89.949997  0.05      0.0  2015\n",
       "1 -89.949997  0.15      0.0  2015\n",
       "2 -89.949997  0.25      0.0  2015\n",
       "3 -89.949997  0.35      0.0  2015\n",
       "4 -89.949997  0.45      0.0  2015"
      ]
     },
     "execution_count": 32,
     "metadata": {},
     "output_type": "execute_result"
    }
   ],
   "source": [
    "co2_df.head()"
   ]
  },
  {
   "cell_type": "code",
   "execution_count": 35,
   "id": "7185cb01",
   "metadata": {},
   "outputs": [
    {
     "data": {
      "text/plain": [
       "(155520000, 4)"
      ]
     },
     "execution_count": 35,
     "metadata": {},
     "output_type": "execute_result"
    }
   ],
   "source": [
    "co2_df.shape"
   ]
  },
  {
   "cell_type": "code",
   "execution_count": 33,
   "id": "e2daa98b",
   "metadata": {},
   "outputs": [
    {
     "data": {
      "text/plain": [
       "lat        0\n",
       "lon        0\n",
       "emi_co2    0\n",
       "year       0\n",
       "dtype: int64"
      ]
     },
     "execution_count": 33,
     "metadata": {},
     "output_type": "execute_result"
    }
   ],
   "source": [
    "co2_df.isnull().sum()"
   ]
  },
  {
   "cell_type": "code",
   "execution_count": 34,
   "id": "b6e66c0b",
   "metadata": {},
   "outputs": [
    {
     "name": "stdout",
     "output_type": "stream",
     "text": [
      "The longitude values range from:\n",
      "0.050000000745058 359.95001220703125\n",
      "The latitude values range from:\n",
      "-89.94999694824219 89.94999694824219\n"
     ]
    }
   ],
   "source": [
    "print('The longitude values range from:')\n",
    "print(co2_df['lon'].min(), co2_df['lon'].max())\n",
    "\n",
    "print('The latitude values range from:')\n",
    "print(co2_df['lat'].min(), co2_df['lat'].max())"
   ]
  },
  {
   "cell_type": "markdown",
   "id": "9fd2ac4e",
   "metadata": {},
   "source": [
    "Find the rows with the appropriate latitude and longitude."
   ]
  },
  {
   "cell_type": "code",
   "execution_count": 36,
   "id": "eb52d80f",
   "metadata": {},
   "outputs": [],
   "source": [
    "latitudes = (co2_df['lat'] >= 14.0749) & (co2_df['lat'] <= 82.9143)\n",
    "longitudes = (co2_df['lon'] >= 181.8667) & (co2_df['lon'] <= 306.9433)\n",
    "co2_df = co2_df[latitudes & longitudes]"
   ]
  },
  {
   "cell_type": "code",
   "execution_count": 37,
   "id": "208a3b6f",
   "metadata": {},
   "outputs": [
    {
     "data": {
      "text/plain": [
       "(20640000, 4)"
      ]
     },
     "execution_count": 37,
     "metadata": {},
     "output_type": "execute_result"
    }
   ],
   "source": [
    "co2_df.shape"
   ]
  },
  {
   "cell_type": "code",
   "execution_count": 38,
   "id": "80ba3429",
   "metadata": {},
   "outputs": [
    {
     "data": {
      "text/html": [
       "<div>\n",
       "<style scoped>\n",
       "    .dataframe tbody tr th:only-of-type {\n",
       "        vertical-align: middle;\n",
       "    }\n",
       "\n",
       "    .dataframe tbody tr th {\n",
       "        vertical-align: top;\n",
       "    }\n",
       "\n",
       "    .dataframe thead th {\n",
       "        text-align: right;\n",
       "    }\n",
       "</style>\n",
       "<table border=\"1\" class=\"dataframe\">\n",
       "  <thead>\n",
       "    <tr style=\"text-align: right;\">\n",
       "      <th></th>\n",
       "      <th>lat</th>\n",
       "      <th>lon</th>\n",
       "      <th>emi_co2</th>\n",
       "      <th>year</th>\n",
       "    </tr>\n",
       "  </thead>\n",
       "  <tbody>\n",
       "    <tr>\n",
       "      <th>109903868</th>\n",
       "      <td>82.849998</td>\n",
       "      <td>306.850006</td>\n",
       "      <td>0.000000e+00</td>\n",
       "      <td>1992</td>\n",
       "    </tr>\n",
       "    <tr>\n",
       "      <th>109079045</th>\n",
       "      <td>59.950001</td>\n",
       "      <td>264.549988</td>\n",
       "      <td>0.000000e+00</td>\n",
       "      <td>1992</td>\n",
       "    </tr>\n",
       "    <tr>\n",
       "      <th>109079046</th>\n",
       "      <td>59.950001</td>\n",
       "      <td>264.649994</td>\n",
       "      <td>0.000000e+00</td>\n",
       "      <td>1992</td>\n",
       "    </tr>\n",
       "    <tr>\n",
       "      <th>109079047</th>\n",
       "      <td>59.950001</td>\n",
       "      <td>264.750000</td>\n",
       "      <td>1.046130e-10</td>\n",
       "      <td>1992</td>\n",
       "    </tr>\n",
       "    <tr>\n",
       "      <th>109079048</th>\n",
       "      <td>59.950001</td>\n",
       "      <td>264.850006</td>\n",
       "      <td>1.280826e-10</td>\n",
       "      <td>1992</td>\n",
       "    </tr>\n",
       "  </tbody>\n",
       "</table>\n",
       "</div>"
      ],
      "text/plain": [
       "                 lat         lon       emi_co2  year\n",
       "109903868  82.849998  306.850006  0.000000e+00  1992\n",
       "109079045  59.950001  264.549988  0.000000e+00  1992\n",
       "109079046  59.950001  264.649994  0.000000e+00  1992\n",
       "109079047  59.950001  264.750000  1.046130e-10  1992\n",
       "109079048  59.950001  264.850006  1.280826e-10  1992"
      ]
     },
     "execution_count": 38,
     "metadata": {},
     "output_type": "execute_result"
    }
   ],
   "source": [
    "co2_sorted = co2_df.sort_values(by='year')\n",
    "co2_sorted.head()"
   ]
  },
  {
   "cell_type": "code",
   "execution_count": 39,
   "id": "96cd8ec0",
   "metadata": {},
   "outputs": [],
   "source": [
    "co2_sorted.to_csv('data/EDGAR Emissions/co2.csv')"
   ]
  },
  {
   "cell_type": "markdown",
   "id": "d057b675",
   "metadata": {},
   "source": [
    "## $N_2O$ Data"
   ]
  },
  {
   "cell_type": "code",
   "execution_count": 45,
   "id": "be0b03a8",
   "metadata": {},
   "outputs": [],
   "source": [
    "n2o_df = pd.DataFrame()\n",
    "\n",
    "for file in os.listdir('EDGAR Emissions/N2O_TOTALS_nc'):\n",
    "    if file[-2:] == 'nc':\n",
    "        year = file[9:13]\n",
    "        path = f'EDGAR Emissions/N2O_TOTALS_nc/{file}'\n",
    "        ds = xr.open_dataset(path)\n",
    "        tmp_df = ds.to_dataframe()\n",
    "        tmp_df.unstack()\n",
    "        tmp_df['year'] = int(year)\n",
    "        n2o_df = pd.concat([n2o_df, tmp_df])"
   ]
  },
  {
   "cell_type": "code",
   "execution_count": 46,
   "id": "079467ad",
   "metadata": {},
   "outputs": [
    {
     "data": {
      "text/html": [
       "<div>\n",
       "<style scoped>\n",
       "    .dataframe tbody tr th:only-of-type {\n",
       "        vertical-align: middle;\n",
       "    }\n",
       "\n",
       "    .dataframe tbody tr th {\n",
       "        vertical-align: top;\n",
       "    }\n",
       "\n",
       "    .dataframe thead th {\n",
       "        text-align: right;\n",
       "    }\n",
       "</style>\n",
       "<table border=\"1\" class=\"dataframe\">\n",
       "  <thead>\n",
       "    <tr style=\"text-align: right;\">\n",
       "      <th></th>\n",
       "      <th></th>\n",
       "      <th>emi_n2o</th>\n",
       "      <th>year</th>\n",
       "    </tr>\n",
       "    <tr>\n",
       "      <th>lat</th>\n",
       "      <th>lon</th>\n",
       "      <th></th>\n",
       "      <th></th>\n",
       "    </tr>\n",
       "  </thead>\n",
       "  <tbody>\n",
       "    <tr>\n",
       "      <th rowspan=\"5\" valign=\"top\">-89.949997</th>\n",
       "      <th>0.05</th>\n",
       "      <td>4.642007e-13</td>\n",
       "      <td>2010</td>\n",
       "    </tr>\n",
       "    <tr>\n",
       "      <th>0.15</th>\n",
       "      <td>7.027698e-14</td>\n",
       "      <td>2010</td>\n",
       "    </tr>\n",
       "    <tr>\n",
       "      <th>0.25</th>\n",
       "      <td>7.027670e-14</td>\n",
       "      <td>2010</td>\n",
       "    </tr>\n",
       "    <tr>\n",
       "      <th>0.35</th>\n",
       "      <td>4.641762e-13</td>\n",
       "      <td>2010</td>\n",
       "    </tr>\n",
       "    <tr>\n",
       "      <th>0.45</th>\n",
       "      <td>7.027825e-14</td>\n",
       "      <td>2010</td>\n",
       "    </tr>\n",
       "  </tbody>\n",
       "</table>\n",
       "</div>"
      ],
      "text/plain": [
       "                      emi_n2o  year\n",
       "lat        lon                     \n",
       "-89.949997 0.05  4.642007e-13  2010\n",
       "           0.15  7.027698e-14  2010\n",
       "           0.25  7.027670e-14  2010\n",
       "           0.35  4.641762e-13  2010\n",
       "           0.45  7.027825e-14  2010"
      ]
     },
     "execution_count": 46,
     "metadata": {},
     "output_type": "execute_result"
    }
   ],
   "source": [
    "n2o_df.head()"
   ]
  },
  {
   "cell_type": "code",
   "execution_count": 47,
   "id": "b3ebb8df",
   "metadata": {},
   "outputs": [
    {
     "data": {
      "text/plain": [
       "(155520000, 2)"
      ]
     },
     "execution_count": 47,
     "metadata": {},
     "output_type": "execute_result"
    }
   ],
   "source": [
    "n2o_df.shape"
   ]
  },
  {
   "cell_type": "code",
   "execution_count": 48,
   "id": "6eb2cb31",
   "metadata": {},
   "outputs": [],
   "source": [
    "n2o_df.to_csv('EDGAR Emissions/n2o.csv')"
   ]
  },
  {
   "cell_type": "code",
   "execution_count": 49,
   "id": "86476897",
   "metadata": {},
   "outputs": [],
   "source": [
    "n2o_df = pd.read_csv('EDGAR Emissions/n2o.csv')"
   ]
  },
  {
   "cell_type": "code",
   "execution_count": 50,
   "id": "0bb5586d",
   "metadata": {},
   "outputs": [
    {
     "data": {
      "text/html": [
       "<div>\n",
       "<style scoped>\n",
       "    .dataframe tbody tr th:only-of-type {\n",
       "        vertical-align: middle;\n",
       "    }\n",
       "\n",
       "    .dataframe tbody tr th {\n",
       "        vertical-align: top;\n",
       "    }\n",
       "\n",
       "    .dataframe thead th {\n",
       "        text-align: right;\n",
       "    }\n",
       "</style>\n",
       "<table border=\"1\" class=\"dataframe\">\n",
       "  <thead>\n",
       "    <tr style=\"text-align: right;\">\n",
       "      <th></th>\n",
       "      <th>lat</th>\n",
       "      <th>lon</th>\n",
       "      <th>emi_n2o</th>\n",
       "      <th>year</th>\n",
       "    </tr>\n",
       "  </thead>\n",
       "  <tbody>\n",
       "    <tr>\n",
       "      <th>0</th>\n",
       "      <td>-89.949997</td>\n",
       "      <td>0.05</td>\n",
       "      <td>4.642007e-13</td>\n",
       "      <td>2010</td>\n",
       "    </tr>\n",
       "    <tr>\n",
       "      <th>1</th>\n",
       "      <td>-89.949997</td>\n",
       "      <td>0.15</td>\n",
       "      <td>7.027698e-14</td>\n",
       "      <td>2010</td>\n",
       "    </tr>\n",
       "    <tr>\n",
       "      <th>2</th>\n",
       "      <td>-89.949997</td>\n",
       "      <td>0.25</td>\n",
       "      <td>7.027670e-14</td>\n",
       "      <td>2010</td>\n",
       "    </tr>\n",
       "    <tr>\n",
       "      <th>3</th>\n",
       "      <td>-89.949997</td>\n",
       "      <td>0.35</td>\n",
       "      <td>4.641762e-13</td>\n",
       "      <td>2010</td>\n",
       "    </tr>\n",
       "    <tr>\n",
       "      <th>4</th>\n",
       "      <td>-89.949997</td>\n",
       "      <td>0.45</td>\n",
       "      <td>7.027825e-14</td>\n",
       "      <td>2010</td>\n",
       "    </tr>\n",
       "  </tbody>\n",
       "</table>\n",
       "</div>"
      ],
      "text/plain": [
       "         lat   lon       emi_n2o  year\n",
       "0 -89.949997  0.05  4.642007e-13  2010\n",
       "1 -89.949997  0.15  7.027698e-14  2010\n",
       "2 -89.949997  0.25  7.027670e-14  2010\n",
       "3 -89.949997  0.35  4.641762e-13  2010\n",
       "4 -89.949997  0.45  7.027825e-14  2010"
      ]
     },
     "execution_count": 50,
     "metadata": {},
     "output_type": "execute_result"
    }
   ],
   "source": [
    "n2o_df.head()"
   ]
  },
  {
   "cell_type": "code",
   "execution_count": 52,
   "id": "5e06001c",
   "metadata": {},
   "outputs": [
    {
     "data": {
      "text/plain": [
       "(155520000, 4)"
      ]
     },
     "execution_count": 52,
     "metadata": {},
     "output_type": "execute_result"
    }
   ],
   "source": [
    "n2o_df.shape"
   ]
  },
  {
   "cell_type": "code",
   "execution_count": 54,
   "id": "52924c1d",
   "metadata": {},
   "outputs": [
    {
     "data": {
      "text/plain": [
       "lat        0\n",
       "lon        0\n",
       "emi_n2o    0\n",
       "year       0\n",
       "dtype: int64"
      ]
     },
     "execution_count": 54,
     "metadata": {},
     "output_type": "execute_result"
    }
   ],
   "source": [
    "n2o_df.isnull().sum()"
   ]
  },
  {
   "cell_type": "code",
   "execution_count": 55,
   "id": "e63c9e21",
   "metadata": {},
   "outputs": [
    {
     "name": "stdout",
     "output_type": "stream",
     "text": [
      "The longitude values range from:\n",
      "0.050000000745058 359.95001220703125\n",
      "The latitude values range from:\n",
      "-89.94999694824219 89.94999694824219\n"
     ]
    }
   ],
   "source": [
    "print('The longitude values range from:')\n",
    "print(n2o_df['lon'].min(), n2o_df['lon'].max())\n",
    "\n",
    "print('The latitude values range from:')\n",
    "print(n2o_df['lat'].min(), n2o_df['lat'].max())"
   ]
  },
  {
   "cell_type": "code",
   "execution_count": 56,
   "id": "0e5da11e",
   "metadata": {},
   "outputs": [
    {
     "data": {
      "text/html": [
       "<div>\n",
       "<style scoped>\n",
       "    .dataframe tbody tr th:only-of-type {\n",
       "        vertical-align: middle;\n",
       "    }\n",
       "\n",
       "    .dataframe tbody tr th {\n",
       "        vertical-align: top;\n",
       "    }\n",
       "\n",
       "    .dataframe thead th {\n",
       "        text-align: right;\n",
       "    }\n",
       "</style>\n",
       "<table border=\"1\" class=\"dataframe\">\n",
       "  <thead>\n",
       "    <tr style=\"text-align: right;\">\n",
       "      <th></th>\n",
       "      <th>lat</th>\n",
       "      <th>lon</th>\n",
       "      <th>emi_n2o</th>\n",
       "      <th>year</th>\n",
       "    </tr>\n",
       "  </thead>\n",
       "  <tbody>\n",
       "    <tr>\n",
       "      <th>3749419</th>\n",
       "      <td>14.15</td>\n",
       "      <td>181.949997</td>\n",
       "      <td>4.072134e-15</td>\n",
       "      <td>2010</td>\n",
       "    </tr>\n",
       "    <tr>\n",
       "      <th>3749420</th>\n",
       "      <td>14.15</td>\n",
       "      <td>182.050003</td>\n",
       "      <td>4.072134e-15</td>\n",
       "      <td>2010</td>\n",
       "    </tr>\n",
       "    <tr>\n",
       "      <th>3749421</th>\n",
       "      <td>14.15</td>\n",
       "      <td>182.149994</td>\n",
       "      <td>4.087264e-15</td>\n",
       "      <td>2010</td>\n",
       "    </tr>\n",
       "    <tr>\n",
       "      <th>3749422</th>\n",
       "      <td>14.15</td>\n",
       "      <td>182.250000</td>\n",
       "      <td>4.065503e-15</td>\n",
       "      <td>2010</td>\n",
       "    </tr>\n",
       "    <tr>\n",
       "      <th>3749423</th>\n",
       "      <td>14.15</td>\n",
       "      <td>182.350006</td>\n",
       "      <td>4.068405e-15</td>\n",
       "      <td>2010</td>\n",
       "    </tr>\n",
       "  </tbody>\n",
       "</table>\n",
       "</div>"
      ],
      "text/plain": [
       "           lat         lon       emi_n2o  year\n",
       "3749419  14.15  181.949997  4.072134e-15  2010\n",
       "3749420  14.15  182.050003  4.072134e-15  2010\n",
       "3749421  14.15  182.149994  4.087264e-15  2010\n",
       "3749422  14.15  182.250000  4.065503e-15  2010\n",
       "3749423  14.15  182.350006  4.068405e-15  2010"
      ]
     },
     "execution_count": 56,
     "metadata": {},
     "output_type": "execute_result"
    }
   ],
   "source": [
    "latitudes = (n2o_df['lat'] >= 14.0749) & (n2o_df['lat'] <= 82.9143)\n",
    "longitudes = (n2o_df['lon'] >= 181.8667) & (n2o_df['lon'] <= 306.9433)\n",
    "n2o_df = n2o_df[latitudes & longitudes]\n",
    "n2o_df.head()"
   ]
  },
  {
   "cell_type": "code",
   "execution_count": 57,
   "id": "f7de5ff1",
   "metadata": {},
   "outputs": [
    {
     "data": {
      "text/plain": [
       "(20640000, 4)"
      ]
     },
     "execution_count": 57,
     "metadata": {},
     "output_type": "execute_result"
    }
   ],
   "source": [
    "n2o_df.shape"
   ]
  },
  {
   "cell_type": "code",
   "execution_count": 59,
   "id": "7bdd810f",
   "metadata": {},
   "outputs": [
    {
     "data": {
      "text/html": [
       "<div>\n",
       "<style scoped>\n",
       "    .dataframe tbody tr th:only-of-type {\n",
       "        vertical-align: middle;\n",
       "    }\n",
       "\n",
       "    .dataframe tbody tr th {\n",
       "        vertical-align: top;\n",
       "    }\n",
       "\n",
       "    .dataframe thead th {\n",
       "        text-align: right;\n",
       "    }\n",
       "</style>\n",
       "<table border=\"1\" class=\"dataframe\">\n",
       "  <thead>\n",
       "    <tr style=\"text-align: right;\">\n",
       "      <th></th>\n",
       "      <th>lat</th>\n",
       "      <th>lon</th>\n",
       "      <th>emi_n2o</th>\n",
       "      <th>year</th>\n",
       "    </tr>\n",
       "  </thead>\n",
       "  <tbody>\n",
       "    <tr>\n",
       "      <th>103423868</th>\n",
       "      <td>82.849998</td>\n",
       "      <td>306.850006</td>\n",
       "      <td>3.002973e-15</td>\n",
       "      <td>1992</td>\n",
       "    </tr>\n",
       "    <tr>\n",
       "      <th>101774241</th>\n",
       "      <td>37.049999</td>\n",
       "      <td>224.149994</td>\n",
       "      <td>3.022328e-15</td>\n",
       "      <td>1992</td>\n",
       "    </tr>\n",
       "    <tr>\n",
       "      <th>101774240</th>\n",
       "      <td>37.049999</td>\n",
       "      <td>224.050003</td>\n",
       "      <td>3.170282e-15</td>\n",
       "      <td>1992</td>\n",
       "    </tr>\n",
       "    <tr>\n",
       "      <th>101774239</th>\n",
       "      <td>37.049999</td>\n",
       "      <td>223.949997</td>\n",
       "      <td>3.231255e-15</td>\n",
       "      <td>1992</td>\n",
       "    </tr>\n",
       "    <tr>\n",
       "      <th>101774238</th>\n",
       "      <td>37.049999</td>\n",
       "      <td>223.850006</td>\n",
       "      <td>3.166844e-15</td>\n",
       "      <td>1992</td>\n",
       "    </tr>\n",
       "  </tbody>\n",
       "</table>\n",
       "</div>"
      ],
      "text/plain": [
       "                 lat         lon       emi_n2o  year\n",
       "103423868  82.849998  306.850006  3.002973e-15  1992\n",
       "101774241  37.049999  224.149994  3.022328e-15  1992\n",
       "101774240  37.049999  224.050003  3.170282e-15  1992\n",
       "101774239  37.049999  223.949997  3.231255e-15  1992\n",
       "101774238  37.049999  223.850006  3.166844e-15  1992"
      ]
     },
     "execution_count": 59,
     "metadata": {},
     "output_type": "execute_result"
    }
   ],
   "source": [
    "n2o_df = n2o_df.sort_values(by='year')\n",
    "n2o_df.head()"
   ]
  },
  {
   "cell_type": "code",
   "execution_count": 60,
   "id": "24929fbf",
   "metadata": {},
   "outputs": [],
   "source": [
    "n2o_df.to_csv('EDGAR Emissions/n2o.csv')"
   ]
  }
 ],
 "metadata": {
  "kernelspec": {
   "display_name": "Python 3 (ipykernel)",
   "language": "python",
   "name": "python3"
  },
  "language_info": {
   "codemirror_mode": {
    "name": "ipython",
    "version": 3
   },
   "file_extension": ".py",
   "mimetype": "text/x-python",
   "name": "python",
   "nbconvert_exporter": "python",
   "pygments_lexer": "ipython3",
   "version": "3.9.12"
  }
 },
 "nbformat": 4,
 "nbformat_minor": 5
}
